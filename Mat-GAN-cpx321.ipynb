{
 "cells": [
  {
   "cell_type": "code",
   "execution_count": 1,
   "metadata": {},
   "outputs": [],
   "source": [
    "import os\n",
    "import re\n",
    "import pymatgen as mg\n",
    "import pymatgen.analysis.diffraction as anadi\n",
    "import pymatgen.analysis.diffraction.xrd as xrd\n",
    "import numpy as np\n",
    "import glob\n",
    "import matplotlib.pyplot as plt\n",
    "import torch\n",
    "import torch.nn as nn\n",
    "from torch.autograd import Variable\n",
    "import math\n",
    "import time"
   ]
  },
  {
   "cell_type": "code",
   "execution_count": 2,
   "metadata": {},
   "outputs": [],
   "source": [
    "torch.set_default_dtype(torch.float64)\n",
    "\n",
    "torch.set_printoptions(precision=8)\n",
    "\n",
    "patt_xrd = xrd.XRDCalculator('CuKa')\n",
    "\n",
    "train_path='/home/hjj/Desktop/GAN-cpx321/train/'\n",
    "\n",
    "test_path='/home/hjj/Desktop/GAN-cpx321/test/'\n",
    "\n",
    "global sample_num, rmat_num, series_num\n",
    "sample_num=1 #output of G\n",
    "rmat_num=28  #row nums of the matrix for the input of CNN \n",
    "series_num=1#input of D\n",
    "\n"
   ]
  },
  {
   "cell_type": "code",
   "execution_count": 3,
   "metadata": {},
   "outputs": [],
   "source": [
    "def get_energy(folder):\n",
    "    energy_string=os.popen('grep TOTEN '+folder+'/OUTCAR | tail -1').read().split(' ')[-2]\n",
    "    energy=round(np.float64(float(energy_string)),5)\n",
    "    return energy\n",
    "\n",
    "def linear_transform(energy):\n",
    "    global extend_num, move_num\n",
    "    energy_transform=(energy-move_num)*extend_num\n",
    "    return energy_transform\n",
    "def inverse_transform(energy_transform):\n",
    "    global extend_num, move_num\n",
    "    energy=energy_transform/extend_num+move_num\n",
    "    return energy\n",
    "def get_energy_per_atom(energy):\n",
    "    energy_per_atom=energy/atoms_num\n",
    "    return energy_per_atom"
   ]
  },
  {
   "cell_type": "code",
   "execution_count": 4,
   "metadata": {},
   "outputs": [],
   "source": [
    "global extend_num, move_num"
   ]
  },
  {
   "cell_type": "code",
   "execution_count": 5,
   "metadata": {},
   "outputs": [],
   "source": [
    "extend_num=1000"
   ]
  },
  {
   "cell_type": "code",
   "execution_count": 6,
   "metadata": {},
   "outputs": [
    {
     "name": "stdout",
     "output_type": "stream",
     "text": [
      "-91.61218\n"
     ]
    }
   ],
   "source": [
    "move_num=get_energy(train_path+'18551/')\n",
    "print(move_num)"
   ]
  },
  {
   "cell_type": "code",
   "execution_count": null,
   "metadata": {},
   "outputs": [],
   "source": []
  },
  {
   "cell_type": "code",
   "execution_count": null,
   "metadata": {},
   "outputs": [],
   "source": []
  },
  {
   "cell_type": "code",
   "execution_count": 14,
   "metadata": {},
   "outputs": [],
   "source": [
    "def random_xxpsk(file_path):\n",
    "    folder=np.random.choice(glob.glob(file_path +\"*\"))\n",
    "    #pos_name=folder+'/POSCAR'\n",
    "    #out_name=folder+'/OUTCAR'\n",
    "    return folder\n",
    "\n",
    "def tomgStructure(folder):\n",
    "    POSfile=folder+'/POSCAR'      \n",
    "    R_mgS=mg.Structure.from_file(POSfile)\n",
    "    return R_mgS\n",
    "\n",
    "###\n",
    "##input_data_to_model\n",
    "###\n",
    "def get_xrdmat3(mgStructure):\n",
    "    global rmat_num\n",
    "    xrd_data4 =patt_xrd.get_pattern(mgStructure)\n",
    "    #xrd_data4.y=xrd_data4.y-base_pxrd.y\n",
    "    i_column = rmat_num\n",
    "    xxx=[]\n",
    "    yyy=[]\n",
    "    mat4=[]\n",
    "    xrd_i=len(xrd_data4)\n",
    "    for i in range(xrd_i):\n",
    "        if abs(xrd_data4.y[i])>0.05:\n",
    "            xxx.append(xrd_data4.x[i])\n",
    "            yyy.append(xrd_data4.y[i])\n",
    "    mat4.append(np.asarray(xxx))\n",
    "    mat4.append(np.asarray(yyy))\n",
    "    mat4=np.asarray(mat4)\n",
    "    \n",
    "    xrd_x=[]\n",
    "    xrd_y=[]\n",
    "    xrd_mat4=[]\n",
    "    xrow=len(mat4[0])\n",
    "    \n",
    "    if xrow < i_column:\n",
    "        for i in mat4[0]:\n",
    "            xrd_x.append(i)\n",
    "        for j in mat4[1]:\n",
    "            xrd_y.append(j)\n",
    "        for i in range(0,i_column-xrow):\n",
    "            xrd_x.append(0)\n",
    "            xrd_y.append(0)\n",
    "        xrd_x=np.asarray(xrd_x)\n",
    "        xrd_y=np.asarray(xrd_y)\n",
    "    if xrow > i_column:\n",
    "        xrd_x=mat4[0][:i_column]\n",
    "        xrd_y=mat4[1][:i_column]\n",
    "    if xrow == i_column:\n",
    "        xrd_x= mat4[0]\n",
    "        xrd_y= mat4[1]\n",
    "        \n",
    "    \n",
    "    xrd_x=np.sin(np.dot(1/180*np.pi,xrd_x))\n",
    "    xrd_y=np.sqrt(xrd_y)\n",
    "    xrd_mat4.append(xrd_x)\n",
    "    xrd_mat4.append(xrd_y)\n",
    "    xrd_mat4=np.array(xrd_mat4)\n",
    "    return xrd_mat4\n",
    "###\n",
    "##input_data_as_knowlegde\n",
    "###\n",
    "'''\n",
    "def get_Gibbs(folder):\n",
    "    energy_string=os.popen('grep TOTEN '+folder+'/OUTCAR | tail -1').read().split(' ')[-2]\n",
    "    Gibbs=np.float64(float(energy_string))\n",
    "    Gibbs=round(Gibbs,6)\n",
    "    return Gibbs\n",
    "'''\n",
    "##\n",
    "###\n",
    "def get_atoms_num(folder2):\n",
    "    xxx=tomgStructure(folder2)\n",
    "    anum=len(xxx.sites)\n",
    "    return anum\n",
    "\n",
    "\n",
    "###\n",
    "##input_data_for_G\n",
    "###\n",
    "def GANs_Gmat(Random_Structure):\n",
    "    global rmat_num\n",
    "    RS_xrdmat = get_xrdmat3(Random_Structure)\n",
    "    multimat3_RS =  np.zeros((rmat_num,rmat_num),dtype='float32')\n",
    "    multimat3_RS = np.asarray((np.dot(RS_xrdmat.T, RS_xrdmat)))\n",
    "    return multimat3_RS"
   ]
  },
  {
   "cell_type": "code",
   "execution_count": 16,
   "metadata": {},
   "outputs": [],
   "source": [
    "class GNet(nn.Module):\n",
    "    \n",
    "    def __init__(self, input_size=(sample_num,28,28)):\n",
    "        super(GNet, self).__init__()\n",
    "        self.conv1 = nn.Sequential(\n",
    "            nn.Conv2d(#(3,28,28)\n",
    "                in_channels=sample_num,\n",
    "                out_channels=32,\n",
    "                kernel_size=5,\n",
    "                stride=1,\n",
    "                padding=2,\n",
    "            ),#->(32,28,28)\n",
    "            nn.ReLU(),#->(32,28,28)\n",
    "            nn.MaxPool2d(kernel_size=2),\n",
    "        )#->(#->(32,14,14))\n",
    "        self.conv2=nn.Sequential(#->(32,14,14))\n",
    "            nn.Conv2d(\n",
    "                in_channels=32,\n",
    "                out_channels=64,\n",
    "                kernel_size=5,\n",
    "                stride=1,\n",
    "                padding=2,\n",
    "            ),#->(64,14,14)\n",
    "            nn.ReLU(),#->(64,14,14)\n",
    "            nn.MaxPool2d(kernel_size=2),#->(64,7,7)\n",
    "        )\n",
    "        self.out=nn.Sequential(\n",
    "            nn.Linear(64*7*7,128),\n",
    "            nn.ReLU(),\n",
    "            nn.Linear(128,sample_num),            \n",
    "        )\n",
    "        \n",
    "    def forward(self,x):\n",
    "        x=self.conv1(x)\n",
    "        x=self.conv2(x) #batch(64,7,7)\n",
    "        x=x.view(x.size(0),-1) #(batch, 64*7*7)\n",
    "        output=torch.unsqueeze(self.out(x),dim=0)\n",
    "        return output\n",
    "\n",
    "class DNet(nn.Module):\n",
    "    def __init__(self):\n",
    "        super(DNet, self).__init__()\n",
    "        self.Dlstm=nn.LSTM(\n",
    "            input_size=series_num,\n",
    "            hidden_size=32,\n",
    "            num_layers=1,\n",
    "            batch_first=True,\n",
    "        )\n",
    "        self.out=nn.Sequential(\n",
    "            nn.Linear(32,10),\n",
    "            nn.ReLU(),\n",
    "            nn.Linear(10,1),\n",
    "            nn.Sigmoid(),\n",
    "        )\n",
    "        #nn.Linear(32,1)\n",
    "        #nn.Relu\n",
    "        #nn.Linear\n",
    "        #nn.Sigmoid\n",
    "        \n",
    "    def forward(self,x):\n",
    "        D_out,(h_n,h_c)=self.Dlstm(x,None)\n",
    "        out = self.out(D_out[:,-1,:]) #(batch,time step,input)   \n",
    "        return out"
   ]
  },
  {
   "cell_type": "code",
   "execution_count": 17,
   "metadata": {},
   "outputs": [],
   "source": [
    "mat_Gl=[]    \n",
    "mat_Dl=[]\n",
    "pre_dd=[]\n",
    "pre_gg=[]\n",
    "error_test=[]\n",
    "error_train=[]\n",
    "r2=[]"
   ]
  },
  {
   "cell_type": "code",
   "execution_count": 18,
   "metadata": {},
   "outputs": [],
   "source": [
    "G1=GNet()\n",
    "D1=DNet()"
   ]
  },
  {
   "cell_type": "code",
   "execution_count": 19,
   "metadata": {},
   "outputs": [],
   "source": [
    "opt_D1=torch.optim.Adam(D1.parameters(),lr=0.1)\n",
    "opt_G1=torch.optim.Adam(G1.parameters(),lr=0.1)"
   ]
  },
  {
   "cell_type": "code",
   "execution_count": 20,
   "metadata": {},
   "outputs": [],
   "source": [
    "train_series=[]\n",
    "for i in range(series_num):\n",
    "    path_s=random_xxpsk(train_path)\n",
    "    ee1=get_energy(path_s)\n",
    "    ee1=linear_transform(ee1)\n",
    "    train_series.append(ee1)"
   ]
  },
  {
   "cell_type": "code",
   "execution_count": 21,
   "metadata": {},
   "outputs": [
    {
     "name": "stdout",
     "output_type": "stream",
     "text": [
      "1\n",
      "error:  0.0002478250000024218\n",
      "1.3997013070406736\n",
      "-0.578651197735329\n",
      "0.43996939588075495\n",
      "0.43934593171826447\n"
     ]
    },
    {
     "name": "stderr",
     "output_type": "stream",
     "text": [
      "/home/hjj/anaconda3/envs/tensorflow/lib/python3.6/site-packages/pymatgen/io/vasp/inputs.py:387: UserWarning: Elements in POSCAR cannot be determined. Defaulting to false names H H H H H H He He He He He He Li Li Li Li Li Li Li Li Li Li Li Li Be Be Be Be Be Be.\n",
      "  \" \".join(atomic_symbols))\n"
     ]
    },
    {
     "name": "stdout",
     "output_type": "stream",
     "text": [
      "2\n",
      "error:  0.013044615000012527\n",
      "1.4553811752707642\n",
      "-0.7159300564342251\n",
      "0.47737586624542167\n",
      "0.5112626529635902\n",
      "3\n",
      "error:  0.013044615000012527\n",
      "1.3323076281656272\n",
      "-0.744592422408626\n",
      "0.5555952564991019\n",
      "0.5250721695609072\n",
      "----------------------------------test-------------------------\n",
      "DFT -91.6121\n",
      "G_predict -91.612124\n",
      "error 2.3999999996249244e-05\n",
      "DFT -91.62101\n",
      "G_predict -91.612686\n",
      "error 0.008324000000001774\n",
      "------------------end-test----------------------------\n",
      "0.004173999999999012\n",
      "R2: 1.572962001516076e-07\n"
     ]
    }
   ],
   "source": [
    "file_path=train_path\n",
    "tfset=[]\n",
    "for step in range(1,4):       \n",
    " \n",
    "    sample_path=[]\n",
    "    for i in range(1,sample_num + 1):\n",
    "        path_ = random_xxpsk(file_path)\n",
    "        sample_path.append(path_)\n",
    "        tfset.append(path_)\n",
    "    E_Gibbs=0\n",
    "    for path1_ in sample_path:\n",
    "        try:\n",
    "            total_energy=get_energy(path1_)\n",
    "            E_Gibbs=linear_transform(total_energy)\n",
    "            #print(samp_Gibbs)\n",
    "        except:\n",
    "            print(path1_)\n",
    "         \n",
    "        train_series.pop(-1)\n",
    "        train_series.append(E_Gibbs)\n",
    "        \n",
    "        \n",
    "    input_series_D=np.asarray(train_series,dtype=np.float64)       \n",
    "    input_series_D=Variable(torch.from_numpy(input_series_D[np.newaxis,np.newaxis,:]),requires_grad=True)\n",
    "    \n",
    "    prob_Tfactor_mat0=D1(input_series_D)\n",
    "    pre_dd.append(prob_Tfactor_mat0.data.numpy().mean())\n",
    "    \n",
    "    g_in=[]\n",
    "    for path2_ in sample_path:\n",
    "        path2_=str(path2_)                \n",
    "        \n",
    "        try:\n",
    "            tomgS=tomgStructure(path2_)\n",
    "            #print(tomgS)\n",
    "            gin=GANs_Gmat(tomgS)\n",
    "            \n",
    "            #print(gin)\n",
    "        except:\n",
    "            pass\n",
    "        g_in.append(gin)\n",
    "       \n",
    "    g_in=np.asarray(g_in)\n",
    "    g_in=g_in[np.newaxis,:,:,:] \n",
    "    g_in=np.asarray(g_in,dtype=np.float64) \n",
    "    g_in=Variable(torch.from_numpy(g_in),requires_grad=True)\n",
    "    \n",
    "    Gout=G1(g_in)\n",
    "    Gout=round(Gout.data.numpy().mean(),6)\n",
    "    train_series.append(Gout)\n",
    "    train_series.pop(0)\n",
    "        \n",
    "    input_series_D=np.asarray(train_series,dtype=np.float64)       \n",
    "    input_series_D=Variable(torch.from_numpy(input_series_D[np.newaxis,np.newaxis,:]),requires_grad=True)\n",
    "    \n",
    "    \n",
    "    prob_G1_mat1=D1(input_series_D)\n",
    "    pre_gg.append(prob_G1_mat1.data.numpy().mean())\n",
    "    \n",
    "    D1_loss=-torch.mean(torch.log(prob_Tfactor_mat0)+torch.log(1.-prob_G1_mat1))\n",
    "    dd=D1_loss.data.numpy().mean()\n",
    "    mat_Dl.append(dd)\n",
    "    \n",
    "    G1_loss=torch.mean(torch.log(1.-prob_G1_mat1))\n",
    "    gg=G1_loss.data.numpy().mean()\n",
    "    mat_Gl.append(gg)\n",
    "    \n",
    "    if step%3==0:\n",
    "        opt_D1.zero_grad()\n",
    "        D1_loss.backward(retain_graph=True)\n",
    "        opt_D1.step()\n",
    "        \n",
    "        opt_G1.zero_grad()\n",
    "        G1_loss.backward()\n",
    "        opt_G1.step()\n",
    "    else:\n",
    "        opt_D1.zero_grad()\n",
    "        D1_loss.backward()\n",
    "        opt_D1.step()\n",
    "    \n",
    "\n",
    "\n",
    "    if step%1==0:\n",
    "        print(step)\n",
    "        print('error: ',abs(inverse_transform(Gout)-inverse_transform(E_Gibbs)))\n",
    "        \n",
    "        print(dd)\n",
    "        print(gg)\n",
    "        print(prob_Tfactor_mat0.data.numpy().mean())\n",
    "        print(prob_G1_mat1.data.numpy().mean())\n",
    "        \n",
    "        \n",
    "        \n",
    "        \n",
    "    \n",
    "    \n",
    "    if step%3==0:\n",
    "        print('----------------------------------test-------------------------')\n",
    "        file_path_test=test_path\n",
    "        E_Gibbs_1=[]\n",
    "        E_Gmodel_1=[]\n",
    "        for step_test in range(2):\n",
    "            sample_path=[]\n",
    "            for i in range(1,sample_num + 1):\n",
    "                path_ = random_xxpsk(file_path_test)\n",
    "                sample_path.append(path_)\n",
    "            \n",
    "            for path1_ in sample_path:\n",
    "                try:\n",
    "                    total_energy=get_energy(path1_)\n",
    "                    tt_energy=linear_transform(total_energy)\n",
    "            #print(samp_Gibbs)\n",
    "                except:\n",
    "                    print(path1_)\n",
    "                    \n",
    "            tt_energy=inverse_transform(float(tt_energy))\n",
    "            print('DFT',tt_energy)\n",
    "            E_Gibbs_1.append(tt_energy)\n",
    "        \n",
    "                   \n",
    "\n",
    "        #print(tfactor.shape)\n",
    "    \n",
    "            g_in=[]\n",
    "            for path2_ in sample_path:\n",
    "                path2_=str(path2_)                \n",
    "        \n",
    "                try:\n",
    "                    tomgS=tomgStructure(path2_)\n",
    "            #print(tomgS)\n",
    "                    gin=GANs_Gmat(tomgS)\n",
    "                    \n",
    "            #print(gin)\n",
    "                except:\n",
    "                    pass\n",
    "                g_in.append(gin)\n",
    "       \n",
    "            g_in=np.asarray(g_in)\n",
    "            g_in=g_in[np.newaxis,:,:,:] \n",
    "            g_in=np.asarray(g_in,dtype=np.float64) \n",
    "            g_in=Variable(torch.from_numpy(g_in),requires_grad=True)\n",
    "    \n",
    "            Gout=G1(g_in)\n",
    "        \n",
    "        #print(Gout.shape)\n",
    "    \n",
    "            G_data=round(inverse_transform(Gout.data.numpy().mean()),6)\n",
    "            print('G_predict',G_data)\n",
    "            E_Gmodel_1.append(G_data)\n",
    "\n",
    "        \n",
    "            \n",
    "            \n",
    "            print('error',abs(tt_energy-G_data))\n",
    "            \n",
    "        print('------------------end-test----------------------------')\n",
    "        xxx=abs(abs(np.asarray(E_Gibbs_1))-abs(np.asarray(E_Gmodel_1))).mean()\n",
    "        print(xxx)\n",
    "        error_test.append(xxx)\n",
    "        \n",
    "        X=np.asarray(E_Gibbs_1)\n",
    "        Y=np.asarray(E_Gmodel_1)\n",
    "\n",
    "        xbar=X.mean()\n",
    "        ybar=Y.mean()\n",
    "        SSR=0\n",
    "        varX=0\n",
    "        varY=0\n",
    "        for i in range(len(X)):\n",
    "            diffxxbar=X[i]-xbar\n",
    "            diffyybar=Y[i]-ybar\n",
    "            SSR+=(diffxxbar*diffyybar)\n",
    "            varX+=diffxxbar**2\n",
    "            varY+=diffyybar**2\n",
    "    \n",
    "        SST=math.sqrt(varX+varY)\n",
    "        R2=(SSR/SST)**2\n",
    "        print(\"R2:\",R2)\n",
    "        r2.append(R2)\n",
    "    else:\n",
    "        pass\n",
    "    \n"
   ]
  },
  {
   "cell_type": "code",
   "execution_count": 27,
   "metadata": {},
   "outputs": [
    {
     "name": "stderr",
     "output_type": "stream",
     "text": [
      "/home/hjj/anaconda3/envs/tensorflow/lib/python3.6/site-packages/pymatgen/io/vasp/inputs.py:387: UserWarning: Elements in POSCAR cannot be determined. Defaulting to false names H H H H H H He He He He He He Li Li Li Li Li Li Li Li Li Li Li Li Be Be Be Be Be Be.\n",
      "  \" \".join(atomic_symbols))\n"
     ]
    },
    {
     "name": "stdout",
     "output_type": "stream",
     "text": [
      "801.0789613723755\n"
     ]
    }
   ],
   "source": [
    "\n",
    "E_Gibbs_test=[]\n",
    "E_Gmodel_test=[]\n",
    "abserrset=[]\n",
    "MSEset=[]\n",
    "err0set=[]\n",
    "testfile=[]\n",
    "for m1,n1,fname in os.walk(test_path):\n",
    "    for ieach in n1:\n",
    "        ieach=test_path+ieach\n",
    "        testfile.append(ieach)\n",
    "start=time.time()        \n",
    "for path_ in testfile:\n",
    "    try:\n",
    "        GGG=get_energy(path_)\n",
    "        #GGG=inverse_transform(GGG)\n",
    "        E_Gibbs_test.append(GGG)\n",
    "        \n",
    "        g_in=[]\n",
    "        tomgS=tomgStructure(path_)\n",
    "        gin=GANs_Gmat(tomgS)\n",
    "        g_in.append(gin)\n",
    "        g_in=np.asarray(g_in)\n",
    "        g_in=g_in[np.newaxis,:,:,:]\n",
    "        g_in=np.asarray(g_in,dtype=np.float64)\n",
    "        g_in=Variable(torch.from_numpy(g_in),requires_grad=True)\n",
    "        Gout=G1(g_in)\n",
    "        G_data=Gout.data.numpy().mean()\n",
    "        G_data=inverse_transform(G_data)\n",
    "        #G_data=get_energy_per_atom(G_data)\n",
    "        E_Gmodel_test.append(G_data)\n",
    "        #print(G_data)\n",
    "        #print(GGG)\n",
    "        abserr=abs(G_data-GGG)\n",
    "        mse=(G_data-GGG)**2\n",
    "        abserrset.append(abserr)\n",
    "        MSEset.append(mse)\n",
    "        err0=abs(abserr/GGG)\n",
    "        err0set.append(err0)\n",
    "    except:\n",
    "        print(path_)\n",
    "end=time.time()\n",
    "print(end-start)"
   ]
  },
  {
   "cell_type": "code",
   "execution_count": 29,
   "metadata": {},
   "outputs": [
    {
     "name": "stdout",
     "output_type": "stream",
     "text": [
      "0.006306970331000353\n",
      "5.992770786860972e-05\n",
      "0.007741298848940642\n"
     ]
    }
   ],
   "source": [
    "print(np.asarray(abserrset).mean())\n",
    "\n",
    "print(np.asarray(MSEset).mean())\n",
    "\n",
    "print(np.sqrt(np.asarray(MSEset).mean()))"
   ]
  },
  {
   "cell_type": "code",
   "execution_count": 22,
   "metadata": {},
   "outputs": [],
   "source": [
    "E_Gibbs_t=[]\n",
    "E_Gmodel_t=[]\n",
    "abs_t_errset=[]\n",
    "err_t_0set=[]\n",
    "tMSEset=[]\n",
    "testfile=[]\n",
    "for m1,n1,fname in os.walk(train_path):\n",
    "    for ieach in n1:\n",
    "        ieach=train_path+ieach\n",
    "        testfile.append(ieach)"
   ]
  },
  {
   "cell_type": "code",
   "execution_count": 23,
   "metadata": {},
   "outputs": [
    {
     "name": "stdout",
     "output_type": "stream",
     "text": [
      "['/home/hjj/Desktop/GAN-cpx321/train/18551', '/home/hjj/Desktop/GAN-cpx321/train/12913', '/home/hjj/Desktop/GAN-cpx321/train/00040']\n"
     ]
    }
   ],
   "source": [
    "print(testfile)"
   ]
  },
  {
   "cell_type": "code",
   "execution_count": 24,
   "metadata": {},
   "outputs": [
    {
     "name": "stderr",
     "output_type": "stream",
     "text": [
      "/home/hjj/anaconda3/envs/tensorflow/lib/python3.6/site-packages/pymatgen/io/vasp/inputs.py:387: UserWarning: Elements in POSCAR cannot be determined. Defaulting to false names H H H H H H He He He He He He Li Li Li Li Li Li Li Li Li Li Li Li Be Be Be Be Be Be.\n",
      "  \" \".join(atomic_symbols))\n"
     ]
    }
   ],
   "source": [
    "\n",
    "#'''        \n",
    "for path_ in testfile:\n",
    "    try:\n",
    "        GGG=get_energy(path_)\n",
    "        \n",
    "        #GGG=get_energy_per_atom(GGG)\n",
    "        E_Gibbs_t.append(GGG)\n",
    "        g_in=[]\n",
    "        tomgS=tomgStructure(path_)\n",
    "        gin=GANs_Gmat(tomgS)\n",
    "        g_in.append(gin)\n",
    "        g_in=np.asarray(g_in)\n",
    "        g_in=g_in[np.newaxis,:,:,:]\n",
    "        g_in=np.asarray(g_in,dtype=np.float64)\n",
    "        g_in=Variable(torch.from_numpy(g_in),requires_grad=True)\n",
    "        Gout=G1(g_in)\n",
    "        G_data=Gout.data.numpy().mean()\n",
    "        G_data=inverse_transform(G_data)\n",
    "        #G_data=get_energy_per_atom(G_data)\n",
    "        E_Gmodel_t.append(G_data)\n",
    "        #print(G_data)\n",
    "        #print(GGG)\n",
    "        abserr=abs(G_data-GGG)\n",
    "        tmse=(G_data-GGG)**2\n",
    "        tMSEset.append(tmse)\n",
    "        abs_t_errset.append(abserr)\n",
    "        err0=abs(abserr/GGG)\n",
    "        err_t_0set.append(err0)\n",
    "    except:\n",
    "        print(path_)"
   ]
  },
  {
   "cell_type": "code",
   "execution_count": 25,
   "metadata": {},
   "outputs": [
    {
     "name": "stdout",
     "output_type": "stream",
     "text": [
      "0.005311480367865329\n",
      "7.401839634988565e-05\n"
     ]
    }
   ],
   "source": [
    "print(np.asarray(abs_t_errset).mean())\n",
    "\n",
    "print(np.asarray(tMSEset).mean())"
   ]
  },
  {
   "cell_type": "code",
   "execution_count": 26,
   "metadata": {},
   "outputs": [
    {
     "name": "stdout",
     "output_type": "stream",
     "text": [
      "0.008603394466714034\n"
     ]
    }
   ],
   "source": [
    "print(np.sqrt(np.asarray(tMSEset).mean()))"
   ]
  },
  {
   "cell_type": "code",
   "execution_count": 37,
   "metadata": {},
   "outputs": [],
   "source": [
    "torch.save(G1.state_dict(),\"/home/hjj/Desktop/GAN-cpx321/G1_cpx321_517-t3-s3.pkl\") \n",
    "torch.save(D1.state_dict(),\"/home/hjj/Desktop/GAN-cpx321/D1_cpx321_517-t3-s3.pkl\")"
   ]
  },
  {
   "cell_type": "code",
   "execution_count": 32,
   "metadata": {},
   "outputs": [],
   "source": [
    "G2=GNet()\n",
    "D2=DNet()"
   ]
  },
  {
   "cell_type": "code",
   "execution_count": 34,
   "metadata": {},
   "outputs": [],
   "source": [
    "G2.load_state_dict(torch.load('/home/hjj/Desktop/GAN-cpx222/G1_cpx321_517-t3-s3.pkl'))"
   ]
  },
  {
   "cell_type": "code",
   "execution_count": 38,
   "metadata": {},
   "outputs": [
    {
     "name": "stdout",
     "output_type": "stream",
     "text": [
      "['/home/hjj/Desktop/GAN-cpx321/train/18551', '/home/hjj/Desktop/GAN-cpx321/train/12913', '/home/hjj/Desktop/GAN-cpx321/train/00040']\n"
     ]
    },
    {
     "name": "stderr",
     "output_type": "stream",
     "text": [
      "/home/hjj/anaconda3/envs/tensorflow/lib/python3.6/site-packages/pymatgen/io/vasp/inputs.py:387: UserWarning: Elements in POSCAR cannot be determined. Defaulting to false names H H H H H H He He He He He He Li Li Li Li Li Li Li Li Li Li Li Li Be Be Be Be Be Be.\n",
      "  \" \".join(atomic_symbols))\n"
     ]
    }
   ],
   "source": [
    "g2E_Gibbs_t=[]\n",
    "g2E_Gmodel_t=[]\n",
    "g2abs_t_errset=[]\n",
    "g2err_t_0set=[]\n",
    "g2tMSEset=[]\n",
    "g2testfile=[]\n",
    "for m1,n1,fname in os.walk(train_path):\n",
    "    for ieach in n1:\n",
    "        ieach=train_path+ieach\n",
    "        g2testfile.append(ieach)\n",
    "print(g2testfile)\n",
    "for path_ in g2testfile:\n",
    "    try:\n",
    "        GGG=get_energy(path_)\n",
    "        \n",
    "        #GGG=get_energy_per_atom(GGG)\n",
    "        g2E_Gibbs_t.append(GGG)\n",
    "        g_in=[]\n",
    "        tomgS=tomgStructure(path_)\n",
    "        gin=GANs_Gmat(tomgS)\n",
    "        g_in.append(gin)\n",
    "        g_in=np.asarray(g_in)\n",
    "        g_in=g_in[np.newaxis,:,:,:]\n",
    "        g_in=np.asarray(g_in,dtype=np.float64)\n",
    "        g_in=Variable(torch.from_numpy(g_in),requires_grad=True)\n",
    "        Gout=G1(g_in)\n",
    "        G_data=Gout.data.numpy().mean()\n",
    "        G_data=inverse_transform(G_data)\n",
    "        #G_data=get_energy_per_atom(G_data)\n",
    "        g2E_Gmodel_t.append(G_data)\n",
    "        #print(G_data)\n",
    "        #print(GGG)\n",
    "        abserr=abs(G_data-GGG)\n",
    "        tmse=(G_data-GGG)**2\n",
    "        g2tMSEset.append(tmse)\n",
    "        g2abs_t_errset.append(abserr)\n",
    "        err0=abs(abserr/GGG)\n",
    "        g2err_t_0set.append(err0)\n",
    "    except:\n",
    "        print(path_)"
   ]
  },
  {
   "cell_type": "code",
   "execution_count": 39,
   "metadata": {},
   "outputs": [
    {
     "name": "stdout",
     "output_type": "stream",
     "text": [
      "0.005311480367865329\n",
      "7.401839634988565e-05\n"
     ]
    }
   ],
   "source": [
    "print(np.asarray(g2abs_t_errset).mean())\n",
    "\n",
    "print(np.asarray(g2tMSEset).mean())"
   ]
  },
  {
   "cell_type": "code",
   "execution_count": null,
   "metadata": {},
   "outputs": [],
   "source": [
    "'''\n",
    "sample_path=[]\n",
    "sample_path.append('/home/mii/Desktop/cpx222/train/00000')\n",
    "g_in=[]\n",
    "for path2_ in sample_path:\n",
    "    path2_=str(path2_)                \n",
    "        \n",
    "    try:\n",
    "        tomgS=tomgStructure(path2_)\n",
    "            #print(tomgS)\n",
    "        gin=GANs_Gmat(tomgS)\n",
    "                \n",
    "            #print(gin)\n",
    "    except:\n",
    "        pass\n",
    "    g_in.append(gin)\n",
    "       \n",
    "g_in=np.asarray(g_in)\n",
    "g_in=g_in[np.newaxis,:,:,:] \n",
    "g_in=np.asarray(g_in,dtype=np.float64) \n",
    "g_in=Variable(torch.from_numpy(g_in),requires_grad=True)\n",
    "    \n",
    "Gout=G1(g_in)\n",
    "        \n",
    "        #print(Gout.shape)\n",
    "    \n",
    "G_data=round(inverse_transform(Gout.data.numpy().mean()),6)\n",
    "print('G_predict',G_data)\n",
    "'''"
   ]
  }
 ],
 "metadata": {
  "kernelspec": {
   "display_name": "tensorflow",
   "language": "python",
   "name": "tensroflow"
  },
  "language_info": {
   "codemirror_mode": {
    "name": "ipython",
    "version": 3
   },
   "file_extension": ".py",
   "mimetype": "text/x-python",
   "name": "python",
   "nbconvert_exporter": "python",
   "pygments_lexer": "ipython3",
   "version": "3.6.6"
  }
 },
 "nbformat": 4,
 "nbformat_minor": 2
}
